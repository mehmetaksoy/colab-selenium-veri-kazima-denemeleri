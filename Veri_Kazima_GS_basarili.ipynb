{
  "nbformat": 4,
  "nbformat_minor": 0,
  "metadata": {
    "colab": {
      "provenance": []
    },
    "kernelspec": {
      "name": "python3",
      "display_name": "Python 3"
    },
    "language_info": {
      "name": "python"
    }
  },
  "cells": [
    {
      "cell_type": "code",
      "source": [
        "%pip install google-colab-selenium[undetected] fake-useragent -q\n",
        "print(\"Kütüphaneler yüklendi.\")"
      ],
      "metadata": {
        "colab": {
          "base_uri": "https://localhost:8080/"
        },
        "id": "HLDSOiEA4JSx",
        "outputId": "6ae48680-0ec2-46f2-e688-ff8d74ecc003"
      },
      "execution_count": null,
      "outputs": [
        {
          "output_type": "stream",
          "name": "stdout",
          "text": [
            "Kütüphaneler yüklendi.\n"
          ]
        }
      ]
    },
    {
      "cell_type": "code",
      "source": [
        "import google_colab_selenium as gs\n",
        "import time\n",
        "import random\n",
        "\n",
        "print(\"Sürücü başlatılıyor (standart modda)...\") # Mesajı güncelledim\n",
        "driver = None\n",
        "try:\n",
        "    # Standart modda sürücüyü başlat\n",
        "    driver = gs.Chrome() # undetected=True argümanını kaldırdık\n",
        "    print(\"Sürücü başarıyla başlatıldı.\")\n",
        "\n",
        "    print(\"Google.com'a gidiliyor...\")\n",
        "    driver.get(\"https://www.google.com\")\n",
        "\n",
        "    time.sleep(random.uniform(2, 5))\n",
        "\n",
        "    page_title = driver.title\n",
        "    print(f\"Sayfa Başlığı: {page_title}\")\n",
        "\n",
        "    if \"Google\" in page_title:\n",
        "        print(\"Başarılı: Google ana sayfasına erişildi.\")\n",
        "    else:\n",
        "        print(\"Uyarı: Beklenen sayfa başlığı alınamadı.\")\n",
        "\n",
        "except Exception as e:\n",
        "    print(f\"Bir hata oluştu: {e}\")\n",
        "\n",
        "finally:\n",
        "    if driver:\n",
        "        print(\"Sürücü kapatılıyor...\")\n",
        "        driver.quit()\n",
        "        print(\"Sürücü kapatıldı.\")"
      ],
      "metadata": {
        "colab": {
          "base_uri": "https://localhost:8080/",
          "height": 202
        },
        "id": "zKck7th14oaL",
        "outputId": "533cebe1-1dbb-49a3-b964-ca49bca5e4d5"
      },
      "execution_count": null,
      "outputs": [
        {
          "output_type": "stream",
          "name": "stdout",
          "text": [
            "Sürücü başlatılıyor (standart modda)...\n"
          ]
        },
        {
          "output_type": "display_data",
          "data": {
            "text/plain": [
              "<IPython.core.display.HTML object>"
            ],
            "text/html": [
              "\n",
              "            <div class=\"spinner-container\">\n",
              "                <div class=\"spinner\" id=\"cd6e49c3-d2f4-4193-ab36-32a2d30abdd6-circle\"></div>\n",
              "                <div class=\"spinner-text\" id=\"cd6e49c3-d2f4-4193-ab36-32a2d30abdd6-text\">Updating and upgrading APT</div>\n",
              "            </div>\n",
              "            <style>\n",
              "                @keyframes spin {\n",
              "                    from { transform: rotate(0deg); }\n",
              "                    to { transform: rotate(360deg); }\n",
              "                }\n",
              "\n",
              "                .spinner-container {\n",
              "                    display: flex;\n",
              "                    align-items: center;\n",
              "                    margin-bottom: 3px;\n",
              "                }\n",
              "\n",
              "                .spinner {\n",
              "                    border: 3px solid rgba(0, 0, 0, 0.1);\n",
              "                    border-left-color: lightblue;\n",
              "                    border-radius: 50%;\n",
              "                    width: 12px;\n",
              "                    height: 12px;\n",
              "                    animation: spin 1s linear infinite;\n",
              "                }\n",
              "\n",
              "                .spinner-text {\n",
              "                    padding-left: 6px;\n",
              "                }\n",
              "            </style>\n",
              "        "
            ]
          },
          "metadata": {}
        },
        {
          "output_type": "display_data",
          "data": {
            "text/plain": [
              "<IPython.core.display.Javascript object>"
            ],
            "application/javascript": [
              "\n",
              "            const element = document.getElementById(\"cd6e49c3-d2f4-4193-ab36-32a2d30abdd6-circle\");\n",
              "            element.style.border = \"3px solid limegreen\";\n",
              "            element.style.animation = \"none\";\n",
              "\n",
              "            const text = document.getElementById(\"cd6e49c3-d2f4-4193-ab36-32a2d30abdd6-text\");\n",
              "            text.innerText = \"Updated and upgraded APT\";\n",
              "        "
            ]
          },
          "metadata": {}
        },
        {
          "output_type": "display_data",
          "data": {
            "text/plain": [
              "<IPython.core.display.HTML object>"
            ],
            "text/html": [
              "\n",
              "            <div class=\"spinner-container\">\n",
              "                <div class=\"spinner\" id=\"915f9a9e-680e-4865-893b-a629446766c2-circle\"></div>\n",
              "                <div class=\"spinner-text\" id=\"915f9a9e-680e-4865-893b-a629446766c2-text\">Downloading Google Chrome</div>\n",
              "            </div>\n",
              "            <style>\n",
              "                @keyframes spin {\n",
              "                    from { transform: rotate(0deg); }\n",
              "                    to { transform: rotate(360deg); }\n",
              "                }\n",
              "\n",
              "                .spinner-container {\n",
              "                    display: flex;\n",
              "                    align-items: center;\n",
              "                    margin-bottom: 3px;\n",
              "                }\n",
              "\n",
              "                .spinner {\n",
              "                    border: 3px solid rgba(0, 0, 0, 0.1);\n",
              "                    border-left-color: lightblue;\n",
              "                    border-radius: 50%;\n",
              "                    width: 12px;\n",
              "                    height: 12px;\n",
              "                    animation: spin 1s linear infinite;\n",
              "                }\n",
              "\n",
              "                .spinner-text {\n",
              "                    padding-left: 6px;\n",
              "                }\n",
              "            </style>\n",
              "        "
            ]
          },
          "metadata": {}
        },
        {
          "output_type": "display_data",
          "data": {
            "text/plain": [
              "<IPython.core.display.Javascript object>"
            ],
            "application/javascript": [
              "\n",
              "            const element = document.getElementById(\"915f9a9e-680e-4865-893b-a629446766c2-circle\");\n",
              "            element.style.border = \"3px solid limegreen\";\n",
              "            element.style.animation = \"none\";\n",
              "\n",
              "            const text = document.getElementById(\"915f9a9e-680e-4865-893b-a629446766c2-text\");\n",
              "            text.innerText = \"Downloaded Google Chrome\";\n",
              "        "
            ]
          },
          "metadata": {}
        },
        {
          "output_type": "display_data",
          "data": {
            "text/plain": [
              "<IPython.core.display.HTML object>"
            ],
            "text/html": [
              "\n",
              "            <div class=\"spinner-container\">\n",
              "                <div class=\"spinner\" id=\"eae0bb46-ef93-4cd9-8edf-0acc329b22de-circle\"></div>\n",
              "                <div class=\"spinner-text\" id=\"eae0bb46-ef93-4cd9-8edf-0acc329b22de-text\">Initializing Chromedriver</div>\n",
              "            </div>\n",
              "            <style>\n",
              "                @keyframes spin {\n",
              "                    from { transform: rotate(0deg); }\n",
              "                    to { transform: rotate(360deg); }\n",
              "                }\n",
              "\n",
              "                .spinner-container {\n",
              "                    display: flex;\n",
              "                    align-items: center;\n",
              "                    margin-bottom: 3px;\n",
              "                }\n",
              "\n",
              "                .spinner {\n",
              "                    border: 3px solid rgba(0, 0, 0, 0.1);\n",
              "                    border-left-color: lightblue;\n",
              "                    border-radius: 50%;\n",
              "                    width: 12px;\n",
              "                    height: 12px;\n",
              "                    animation: spin 1s linear infinite;\n",
              "                }\n",
              "\n",
              "                .spinner-text {\n",
              "                    padding-left: 6px;\n",
              "                }\n",
              "            </style>\n",
              "        "
            ]
          },
          "metadata": {}
        },
        {
          "output_type": "display_data",
          "data": {
            "text/plain": [
              "<IPython.core.display.Javascript object>"
            ],
            "application/javascript": [
              "\n",
              "            const element = document.getElementById(\"eae0bb46-ef93-4cd9-8edf-0acc329b22de-circle\");\n",
              "            element.style.border = \"3px solid limegreen\";\n",
              "            element.style.animation = \"none\";\n",
              "\n",
              "            const text = document.getElementById(\"eae0bb46-ef93-4cd9-8edf-0acc329b22de-text\");\n",
              "            text.innerText = \"Initialized Chromedriver\";\n",
              "        "
            ]
          },
          "metadata": {}
        },
        {
          "output_type": "stream",
          "name": "stdout",
          "text": [
            "Sürücü başarıyla başlatıldı.\n",
            "Google.com'a gidiliyor...\n",
            "Sayfa Başlığı: Google\n",
            "Başarılı: Google ana sayfasına erişildi.\n",
            "Sürücü kapatılıyor...\n",
            "Sürücü kapatıldı.\n"
          ]
        }
      ]
    },
    {
      "cell_type": "code",
      "source": [
        "%pip install selenium webdriver-manager undetected-chromedriver fake-useragent -q\n",
        "print(\"Kütüphaneler kontrol edildi/yüklendi.\")"
      ],
      "metadata": {
        "colab": {
          "base_uri": "https://localhost:8080/"
        },
        "id": "07Mersr447Dz",
        "outputId": "46f42d07-bf29-4779-c0c1-668f052afc4b"
      },
      "execution_count": null,
      "outputs": [
        {
          "output_type": "stream",
          "name": "stdout",
          "text": [
            "Kütüphaneler kontrol edildi/yüklendi.\n"
          ]
        }
      ]
    },
    {
      "cell_type": "code",
      "execution_count": null,
      "metadata": {
        "colab": {
          "base_uri": "https://localhost:8080/"
        },
        "id": "0cAR3zLC3ntm",
        "outputId": "8f3f4ee5-89cc-41c8-adf0-533a7d88451b"
      },
      "outputs": [
        {
          "output_type": "stream",
          "name": "stdout",
          "text": [
            "Undetected sürücü doğrudan başlatılıyor...\n",
            "Undetected sürücü başarıyla başlatıldı.\n",
            "Google Scholar'a gidiliyor...\n",
            "Sayfa yüklenmesi için 11.18 saniye bekleniyor...\n",
            "Ulaşılan Sayfa Başlığı: Google Scholar\n",
            "Google Scholar ana sayfasına başarıyla erişildi.\n",
            "'reinforcement learning applications' için arama yapılıyor...\n",
            "Arama butonuna tıklandı.\n",
            "Arama sonuçları için 13.61 saniye bekleniyor...\n",
            "Arama Sonuçları Sayfa Başlığı: 403\n",
            "Faz 3 Veri Çekme Başlıyor...\n",
            "Sayfa aşağı kaydırılıyor...\n",
            "Arama sonucu konteynerleri aranıyor...\n",
            "0 adet sonuç bulundu (ilk sayfa).\n",
            "Faz 3'te hiç sonuç konteyneri bulunamadı.\n",
            "\n",
            "Faz 5 Başlıyor: Veri iyileştirme ve dosyalara kaydetme...\n",
            "Kaydedilecek veri bulunamadı.\n",
            "İşlem bitti, sürücü kapatılıyor...\n",
            "Sürücü kapatıldı.\n"
          ]
        }
      ],
      "source": [
        "# Gerekli kütüphaneler\n",
        "import time\n",
        "import random\n",
        "import uuid\n",
        "import pandas as pd\n",
        "import json # JSON işlemleri için\n",
        "import re # Yıl ve kaynak temizleme için Regex\n",
        "from selenium.webdriver.common.by import By\n",
        "from selenium.common.exceptions import NoSuchElementException, TimeoutException, WebDriverException\n",
        "import undetected_chromedriver as uc\n",
        "\n",
        "print(\"Undetected sürücü doğrudan başlatılıyor...\")\n",
        "driver = None\n",
        "extracted_data = [] # Toplanan verileri tutacak liste\n",
        "\n",
        "try:\n",
        "    options = uc.ChromeOptions()\n",
        "    options.add_argument('--headless')\n",
        "    options.add_argument('--no-sandbox')\n",
        "    options.add_argument('--disable-dev-shm-usage')\n",
        "\n",
        "    driver = uc.Chrome(options=options, headless=True, use_subprocess=False)\n",
        "    driver.set_page_load_timeout(60) # Sayfa yükleme zaman aşımı\n",
        "    driver.implicitly_wait(5) # Element bulma için genel bekleme\n",
        "    print(\"Undetected sürücü başarıyla başlatıldı.\")\n",
        "\n",
        "    # ----- FAZ 3 Kodu (Veriyi Toplamak İçin) -----\n",
        "    print(\"Google Scholar'a gidiliyor...\")\n",
        "    driver.get(\"https://scholar.google.com/\")\n",
        "    wait_time_long = random.uniform(8, 15)\n",
        "    print(f\"Sayfa yüklenmesi için {wait_time_long:.2f} saniye bekleniyor...\")\n",
        "    time.sleep(wait_time_long)\n",
        "    page_title = driver.title\n",
        "    print(f\"Ulaşılan Sayfa Başlığı: {page_title}\")\n",
        "    if \"Scholar\" not in page_title:\n",
        "        raise Exception(\"Google Scholar ana sayfasına erişilemedi. CAPTCHA olabilir.\")\n",
        "    print(\"Google Scholar ana sayfasına başarıyla erişildi.\")\n",
        "\n",
        "    search_keyword = \"reinforcement learning applications\"\n",
        "    try:\n",
        "        print(f\"'{search_keyword}' için arama yapılıyor...\")\n",
        "        search_box = driver.find_element(By.ID, \"gs_hdr_tsi\")\n",
        "        time.sleep(random.uniform(0.5, 1.0))\n",
        "        search_box.send_keys(search_keyword)\n",
        "        time.sleep(random.uniform(0.5, 1.0))\n",
        "        search_button = driver.find_element(By.ID, \"gs_hdr_tsb\")\n",
        "        time.sleep(random.uniform(0.5, 1.0))\n",
        "        search_button.click()\n",
        "        print(\"Arama butonuna tıklandı.\")\n",
        "        wait_time_search = random.uniform(10, 20)\n",
        "        print(f\"Arama sonuçları için {wait_time_search:.2f} saniye bekleniyor...\")\n",
        "        time.sleep(wait_time_search)\n",
        "        results_page_title = driver.title\n",
        "        print(f\"Arama Sonuçları Sayfa Başlığı: {results_page_title}\")\n",
        "        print(\"Faz 3 Veri Çekme Başlıyor...\")\n",
        "    except NoSuchElementException as e:\n",
        "        raise Exception(f\"Arama kutusu/butonu bulunamadı: {e}\")\n",
        "\n",
        "    print(\"Sayfa aşağı kaydırılıyor...\")\n",
        "    for i in range(2):\n",
        "        driver.execute_script(f\"window.scrollBy(0, 500);\")\n",
        "        time.sleep(random.uniform(0.5, 1.0))\n",
        "\n",
        "    print(\"Arama sonucu konteynerleri aranıyor...\")\n",
        "    result_containers = driver.find_elements(By.CSS_SELECTOR, \"div.gs_r.gs_or.gs_scl\")\n",
        "    print(f\"{len(result_containers)} adet sonuç bulundu (ilk sayfa).\")\n",
        "\n",
        "    if result_containers:\n",
        "        print(\"Faz 3 Sonuçları İşleniyor...\")\n",
        "        for i, container in enumerate(result_containers):\n",
        "            container_cid = container.get_attribute('data-cid') or str(uuid.uuid4())\n",
        "            title, url, authors_line, snippet, pdf_url = None, None, None, None, None\n",
        "\n",
        "            # Verileri çekme (try-except ile daha güvenli)\n",
        "            try:\n",
        "                title_element = container.find_element(By.CSS_SELECTOR, \"h3.gs_rt a\")\n",
        "                title = title_element.text\n",
        "                url = title_element.get_attribute('href')\n",
        "            except NoSuchElementException: pass # Hata yoksa devam et\n",
        "            try:\n",
        "                authors_element = container.find_element(By.CSS_SELECTOR, \"div.gs_a\")\n",
        "                authors_line = authors_element.text\n",
        "            except NoSuchElementException: pass\n",
        "            try:\n",
        "                snippet_element = container.find_element(By.CSS_SELECTOR, \"div.gs_rs\")\n",
        "                snippet = snippet_element.text.strip()\n",
        "            except NoSuchElementException: pass\n",
        "            try:\n",
        "                pdf_section = None\n",
        "                try: pdf_section = container.find_element(By.CSS_SELECTOR, \"div.gs_ggs\")\n",
        "                except NoSuchElementException:\n",
        "                    try: pdf_section = container.find_element(By.CSS_SELECTOR, \"div.gs_fl\")\n",
        "                    except NoSuchElementException: pass\n",
        "\n",
        "                if pdf_section:\n",
        "                     pdf_links = pdf_section.find_elements(By.TAG_NAME, \"a\")\n",
        "                     for link in pdf_links:\n",
        "                         href = link.get_attribute('href')\n",
        "                         if href and (href.lower().endswith('.pdf') or '[pdf]' in link.text.lower()):\n",
        "                             pdf_url = href\n",
        "                             break\n",
        "            except Exception as pdf_e: print(f\"  Uyarı: Sonuç {i+1} için PDF linki aranırken hata: {pdf_e}\")\n",
        "\n",
        "            extracted_data.append({\n",
        "                'id': container_cid, 'source': 'google_scholar', 'title': title, 'abstract': snippet,\n",
        "                'authors': authors_line, 'published_date': None, 'publish_year': None,\n",
        "                'updated_date': None, 'url': url, 'pdf_url': pdf_url, 'doi': None })\n",
        "            time.sleep(random.uniform(0.5, 1.5))\n",
        "        print(f\"Faz 3: {len(extracted_data)} sonuç için temel veriler toplandı.\")\n",
        "    else:\n",
        "        print(\"Faz 3'te hiç sonuç konteyneri bulunamadı.\")\n",
        "    # ----- FAZ 3 Kodu Bitiş -----\n",
        "\n",
        "\n",
        "    # ----- FAZ 5 BAŞLANGIÇ (Veri İyileştirme ve Kaydetme) -----\n",
        "    print(\"\\nFaz 5 Başlıyor: Veri iyileştirme ve dosyalara kaydetme...\")\n",
        "\n",
        "    if not extracted_data:\n",
        "        print(\"Kaydedilecek veri bulunamadı.\")\n",
        "    else:\n",
        "        print(\"Veri iyileştiriliyor (Yıl ve Yazar Temizleme)...\")\n",
        "        processed_count = 0\n",
        "        current_system_year = pd.Timestamp.now().year # Sistem yılı kontrol için\n",
        "        for item in extracted_data:\n",
        "            authors_str = item.get('authors')\n",
        "            year = None\n",
        "            cleaned_authors = authors_str\n",
        "\n",
        "            if isinstance(authors_str, str) and authors_str:\n",
        "                # Regex ile metin içindeki 4 haneli sayıları bul\n",
        "                possible_years = []\n",
        "                for yr_str in re.findall(r'(\\b\\d{4}\\b)', authors_str):\n",
        "                    yr = int(yr_str)\n",
        "                    # Makul bir yıl aralığında mı kontrol et (örn: 1900 - sistem yılı + 2)\n",
        "                    if 1900 <= yr <= current_system_year + 2:\n",
        "                        possible_years.append(yr)\n",
        "                if possible_years:\n",
        "                    # Genellikle en sondaki yıl yayın yılıdır\n",
        "                    year = possible_years[-1]\n",
        "\n",
        "                # Yazar kısmını temizleme: ' - ' ile ayrılan kısımlardan sonuncuyu atmayı dene\n",
        "                parts = authors_str.split(' - ')\n",
        "                if len(parts) > 1:\n",
        "                     # Eğer yıl bulduysak ve sondan ikinci kısımda ise daha güvenli\n",
        "                     if year and str(year) in parts[-2]:\n",
        "                          cleaned_authors = ' - '.join(parts[:-1]).strip()\n",
        "                     else: # Değilse, yine de son kısmı kaynak varsayarak atalım\n",
        "                          cleaned_authors = ' - '.join(parts[:-1]).strip()\n",
        "                # Eğer hiç ' - ' yoksa orijinal kalsın\n",
        "                elif len(parts) == 1:\n",
        "                     cleaned_authors = authors_str # Zaten sadece yazar(lar)\n",
        "\n",
        "                # Temizlenmiş yazar listesinde sonda kalmış olabilecek virgülü kaldır\n",
        "                if cleaned_authors and cleaned_authors.endswith(','):\n",
        "                    cleaned_authors = cleaned_authors[:-1].strip()\n",
        "\n",
        "            # Güncellenmiş değerleri sözlüğe yaz\n",
        "            item['publish_year'] = year\n",
        "            item['authors'] = cleaned_authors if cleaned_authors else authors_str # Eğer temizleme sonucu boş kalırsa orijinali kullan\n",
        "            processed_count += 1\n",
        "        print(f\"{processed_count} adet kaydın yıl ve yazar bilgisi işlendi.\")\n",
        "\n",
        "        # Pandas DataFrame oluştur\n",
        "        df = pd.DataFrame(extracted_data)\n",
        "\n",
        "        # İstenen Sütun Sırası\n",
        "        final_columns = []\n",
        "        available_columns = df.columns.tolist()\n",
        "        desired_columns = [\n",
        "            'id', 'source', 'title', 'abstract', 'authors',\n",
        "            'published_date', 'publish_year', 'updated_date',\n",
        "            'url', 'pdf_url', 'doi'\n",
        "        ]\n",
        "        for col in desired_columns:\n",
        "            if col in available_columns:\n",
        "                final_columns.append(col)\n",
        "        df = df[final_columns] # Var olan sütunları sırala\n",
        "\n",
        "        # CSV olarak kaydet\n",
        "        csv_filename = 'google_scholar_results.csv'\n",
        "        try:\n",
        "            df.to_csv(csv_filename, index=False, encoding='utf-8-sig')\n",
        "            print(f\"Veriler başarıyla '{csv_filename}' dosyasına kaydedildi.\")\n",
        "        except Exception as e:\n",
        "            print(f\"CSV dosyasına kaydederken HATA oluştu: {e}\")\n",
        "\n",
        "        # JSON olarak kaydet\n",
        "        json_filename = 'google_scholar_results.json'\n",
        "        try:\n",
        "            # NaN/None değerlerini JSON için null yapalım\n",
        "            df_for_json = df.where(pd.notnull(df), None)\n",
        "            json_data = df_for_json.to_dict(orient='records')\n",
        "            with open(json_filename, 'w', encoding='utf-8') as f:\n",
        "                json.dump(json_data, f, ensure_ascii=False, indent=4)\n",
        "            print(f\"Veriler başarıyla '{json_filename}' dosyasına kaydedildi.\")\n",
        "        except Exception as e:\n",
        "            print(f\"JSON dosyasına kaydederken HATA oluştu: {e}\")\n",
        "\n",
        "        # Sonucu tekrar gösterelim (iyileştirilmiş haliyle)\n",
        "        print(\"\\nİyileştirilmiş ilk 5 sonuç:\")\n",
        "        display_columns = ['id', 'title', 'authors', 'publish_year', 'abstract', 'url', 'pdf_url', 'doi']\n",
        "        print(df.head()[display_columns].fillna('').to_markdown(index=False))\n",
        "\n",
        "    # ----- FAZ 5 BİTİŞ -----\n",
        "\n",
        "except Exception as e:\n",
        "    print(f\"Genel bir HATA oluştu: {e}\")\n",
        "    try:\n",
        "        if driver:\n",
        "             driver.save_screenshot(\"final_error.png\")\n",
        "             print(\"Hata ekran görüntüsü 'final_error.png' olarak kaydedildi.\")\n",
        "    except Exception as ss_e:\n",
        "        print(f\"Ekran görüntüsü alınamadı: {ss_e}\")\n",
        "\n",
        "finally:\n",
        "    # Sürücüyü her durumda kapat\n",
        "    if driver:\n",
        "        print(\"İşlem bitti, sürücü kapatılıyor...\")\n",
        "        time.sleep(random.uniform(2, 5)) # Kısa bir son bekleme\n",
        "        driver.quit()\n",
        "        print(\"Sürücü kapatıldı.\")"
      ]
    }
  ]
}